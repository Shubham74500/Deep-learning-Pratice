{
 "cells": [
  {
   "cell_type": "code",
   "execution_count": 3,
   "metadata": {},
   "outputs": [],
   "source": [
    "import numpy as np\n",
    "import pandas as pd"
   ]
  },
  {
   "cell_type": "code",
   "execution_count": 4,
   "metadata": {},
   "outputs": [],
   "source": [
    "df=pd.read_csv('C:/Users/HP/Downloads/archive/Social_Network_Ads.csv')"
   ]
  },
  {
   "cell_type": "code",
   "execution_count": 5,
   "metadata": {},
   "outputs": [
    {
     "data": {
      "text/html": [
       "<div>\n",
       "<style scoped>\n",
       "    .dataframe tbody tr th:only-of-type {\n",
       "        vertical-align: middle;\n",
       "    }\n",
       "\n",
       "    .dataframe tbody tr th {\n",
       "        vertical-align: top;\n",
       "    }\n",
       "\n",
       "    .dataframe thead th {\n",
       "        text-align: right;\n",
       "    }\n",
       "</style>\n",
       "<table border=\"1\" class=\"dataframe\">\n",
       "  <thead>\n",
       "    <tr style=\"text-align: right;\">\n",
       "      <th></th>\n",
       "      <th>Age</th>\n",
       "      <th>EstimatedSalary</th>\n",
       "      <th>Purchased</th>\n",
       "    </tr>\n",
       "  </thead>\n",
       "  <tbody>\n",
       "    <tr>\n",
       "      <th>0</th>\n",
       "      <td>19</td>\n",
       "      <td>19000</td>\n",
       "      <td>0</td>\n",
       "    </tr>\n",
       "    <tr>\n",
       "      <th>1</th>\n",
       "      <td>35</td>\n",
       "      <td>20000</td>\n",
       "      <td>0</td>\n",
       "    </tr>\n",
       "    <tr>\n",
       "      <th>2</th>\n",
       "      <td>26</td>\n",
       "      <td>43000</td>\n",
       "      <td>0</td>\n",
       "    </tr>\n",
       "    <tr>\n",
       "      <th>3</th>\n",
       "      <td>27</td>\n",
       "      <td>57000</td>\n",
       "      <td>0</td>\n",
       "    </tr>\n",
       "    <tr>\n",
       "      <th>4</th>\n",
       "      <td>19</td>\n",
       "      <td>76000</td>\n",
       "      <td>0</td>\n",
       "    </tr>\n",
       "  </tbody>\n",
       "</table>\n",
       "</div>"
      ],
      "text/plain": [
       "   Age  EstimatedSalary  Purchased\n",
       "0   19            19000          0\n",
       "1   35            20000          0\n",
       "2   26            43000          0\n",
       "3   27            57000          0\n",
       "4   19            76000          0"
      ]
     },
     "execution_count": 5,
     "metadata": {},
     "output_type": "execute_result"
    }
   ],
   "source": [
    "df=df.iloc[:,2:]\n",
    "df.head()"
   ]
  },
  {
   "cell_type": "code",
   "execution_count": 6,
   "metadata": {},
   "outputs": [],
   "source": [
    "import seaborn as sns"
   ]
  },
  {
   "cell_type": "code",
   "execution_count": 7,
   "metadata": {},
   "outputs": [],
   "source": [
    "X=df.iloc[:,0:2]\n",
    "Y=df.iloc[:,-1]\n"
   ]
  },
  {
   "cell_type": "code",
   "execution_count": 11,
   "metadata": {},
   "outputs": [],
   "source": [
    "from sklearn.model_selection import train_test_split\n",
    "X_train,X_test,Y_train,Y_test=train_test_split(X,Y,test_size=0.2,random_state=2)"
   ]
  },
  {
   "cell_type": "code",
   "execution_count": 13,
   "metadata": {},
   "outputs": [],
   "source": [
    "import tensorflow as tf\n",
    "from tensorflow import keras\n",
    "from keras import Sequential\n",
    "from keras.layers import Dense"
   ]
  },
  {
   "cell_type": "code",
   "execution_count": 14,
   "metadata": {},
   "outputs": [],
   "source": [
    "model=Sequential()\n",
    "\n",
    "model.add(Dense(128,activation='relu',input_dim=2))\n",
    "model.add(Dense(1,activation='sigmoid'))"
   ]
  },
  {
   "cell_type": "code",
   "execution_count": 15,
   "metadata": {},
   "outputs": [
    {
     "name": "stdout",
     "output_type": "stream",
     "text": [
      "Model: \"sequential\"\n",
      "_________________________________________________________________\n",
      " Layer (type)                Output Shape              Param #   \n",
      "=================================================================\n",
      " dense (Dense)               (None, 128)               384       \n",
      "                                                                 \n",
      " dense_1 (Dense)             (None, 1)                 129       \n",
      "                                                                 \n",
      "=================================================================\n",
      "Total params: 513\n",
      "Trainable params: 513\n",
      "Non-trainable params: 0\n",
      "_________________________________________________________________\n"
     ]
    }
   ],
   "source": [
    "model.summary()"
   ]
  },
  {
   "cell_type": "code",
   "execution_count": 16,
   "metadata": {},
   "outputs": [],
   "source": [
    "model.compile(optimizer=\"adam\",loss='binary_crossentropy',metrics=['accuracy'])"
   ]
  },
  {
   "cell_type": "code",
   "execution_count": 17,
   "metadata": {},
   "outputs": [
    {
     "name": "stdout",
     "output_type": "stream",
     "text": [
      "Epoch 1/100\n",
      "10/10 [==============================] - 1s 36ms/step - loss: 2152.8115 - accuracy: 0.6531 - val_loss: 74.0836 - val_accuracy: 0.4000\n",
      "Epoch 2/100\n",
      "10/10 [==============================] - 0s 7ms/step - loss: 368.1949 - accuracy: 0.3969 - val_loss: 299.0333 - val_accuracy: 0.6000\n",
      "Epoch 3/100\n",
      "10/10 [==============================] - 0s 7ms/step - loss: 211.4178 - accuracy: 0.5188 - val_loss: 24.7768 - val_accuracy: 0.4000\n",
      "Epoch 4/100\n",
      "10/10 [==============================] - 0s 7ms/step - loss: 141.6540 - accuracy: 0.5781 - val_loss: 230.2072 - val_accuracy: 0.4000\n",
      "Epoch 5/100\n",
      "10/10 [==============================] - 0s 7ms/step - loss: 159.8811 - accuracy: 0.5469 - val_loss: 121.4083 - val_accuracy: 0.4000\n",
      "Epoch 6/100\n",
      "10/10 [==============================] - 0s 6ms/step - loss: 146.7487 - accuracy: 0.4906 - val_loss: 86.5897 - val_accuracy: 0.6000\n",
      "Epoch 7/100\n",
      "10/10 [==============================] - 0s 7ms/step - loss: 29.4278 - accuracy: 0.5281 - val_loss: 34.2422 - val_accuracy: 0.6000\n",
      "Epoch 8/100\n",
      "10/10 [==============================] - 0s 8ms/step - loss: 34.3753 - accuracy: 0.4906 - val_loss: 34.8036 - val_accuracy: 0.6000\n",
      "Epoch 9/100\n",
      "10/10 [==============================] - 0s 6ms/step - loss: 61.9721 - accuracy: 0.5719 - val_loss: 59.7437 - val_accuracy: 0.4000\n",
      "Epoch 10/100\n",
      "10/10 [==============================] - 0s 6ms/step - loss: 50.8626 - accuracy: 0.4781 - val_loss: 37.7323 - val_accuracy: 0.6000\n",
      "Epoch 11/100\n",
      "10/10 [==============================] - 0s 7ms/step - loss: 43.7690 - accuracy: 0.5469 - val_loss: 78.1645 - val_accuracy: 0.6000\n",
      "Epoch 12/100\n",
      "10/10 [==============================] - 0s 6ms/step - loss: 30.7948 - accuracy: 0.4656 - val_loss: 21.7066 - val_accuracy: 0.4000\n",
      "Epoch 13/100\n",
      "10/10 [==============================] - 0s 7ms/step - loss: 28.2062 - accuracy: 0.5406 - val_loss: 25.1459 - val_accuracy: 0.6000\n",
      "Epoch 14/100\n",
      "10/10 [==============================] - 0s 6ms/step - loss: 28.8129 - accuracy: 0.5469 - val_loss: 24.2921 - val_accuracy: 0.6000\n",
      "Epoch 15/100\n",
      "10/10 [==============================] - 0s 6ms/step - loss: 63.4938 - accuracy: 0.4969 - val_loss: 84.2631 - val_accuracy: 0.4000\n",
      "Epoch 16/100\n",
      "10/10 [==============================] - 0s 6ms/step - loss: 50.3331 - accuracy: 0.5656 - val_loss: 105.2905 - val_accuracy: 0.4000\n",
      "Epoch 17/100\n",
      "10/10 [==============================] - 0s 7ms/step - loss: 101.8181 - accuracy: 0.4906 - val_loss: 68.6124 - val_accuracy: 0.4000\n",
      "Epoch 18/100\n",
      "10/10 [==============================] - 0s 6ms/step - loss: 53.1838 - accuracy: 0.5344 - val_loss: 149.8566 - val_accuracy: 0.6000\n",
      "Epoch 19/100\n",
      "10/10 [==============================] - 0s 6ms/step - loss: 66.2921 - accuracy: 0.5406 - val_loss: 78.7324 - val_accuracy: 0.4000\n",
      "Epoch 20/100\n",
      "10/10 [==============================] - 0s 7ms/step - loss: 127.1979 - accuracy: 0.5219 - val_loss: 45.5236 - val_accuracy: 0.4000\n",
      "Epoch 21/100\n",
      "10/10 [==============================] - 0s 7ms/step - loss: 93.3724 - accuracy: 0.4656 - val_loss: 113.4586 - val_accuracy: 0.4000\n",
      "Epoch 22/100\n",
      "10/10 [==============================] - 0s 8ms/step - loss: 88.9303 - accuracy: 0.5094 - val_loss: 44.0758 - val_accuracy: 0.4000\n",
      "Epoch 23/100\n",
      "10/10 [==============================] - 0s 6ms/step - loss: 63.5001 - accuracy: 0.5437 - val_loss: 66.1681 - val_accuracy: 0.6000\n",
      "Epoch 24/100\n",
      "10/10 [==============================] - 0s 6ms/step - loss: 58.5208 - accuracy: 0.5469 - val_loss: 50.8928 - val_accuracy: 0.4000\n",
      "Epoch 25/100\n",
      "10/10 [==============================] - 0s 7ms/step - loss: 40.5229 - accuracy: 0.4656 - val_loss: 5.4272 - val_accuracy: 0.6625\n",
      "Epoch 26/100\n",
      "10/10 [==============================] - 0s 6ms/step - loss: 25.3358 - accuracy: 0.4906 - val_loss: 27.7966 - val_accuracy: 0.4000\n",
      "Epoch 27/100\n",
      "10/10 [==============================] - 0s 6ms/step - loss: 36.2466 - accuracy: 0.5469 - val_loss: 57.1621 - val_accuracy: 0.4000\n",
      "Epoch 28/100\n",
      "10/10 [==============================] - 0s 6ms/step - loss: 75.1217 - accuracy: 0.5156 - val_loss: 59.6598 - val_accuracy: 0.4000\n",
      "Epoch 29/100\n",
      "10/10 [==============================] - 0s 7ms/step - loss: 70.8850 - accuracy: 0.5406 - val_loss: 36.1685 - val_accuracy: 0.6000\n",
      "Epoch 30/100\n",
      "10/10 [==============================] - 0s 7ms/step - loss: 20.4452 - accuracy: 0.4781 - val_loss: 11.5727 - val_accuracy: 0.6000\n",
      "Epoch 31/100\n",
      "10/10 [==============================] - 0s 7ms/step - loss: 10.5443 - accuracy: 0.5750 - val_loss: 30.9792 - val_accuracy: 0.4000\n",
      "Epoch 32/100\n",
      "10/10 [==============================] - 0s 7ms/step - loss: 51.9854 - accuracy: 0.5094 - val_loss: 74.1981 - val_accuracy: 0.6000\n",
      "Epoch 33/100\n",
      "10/10 [==============================] - 0s 7ms/step - loss: 62.3138 - accuracy: 0.5656 - val_loss: 17.5682 - val_accuracy: 0.4000\n",
      "Epoch 34/100\n",
      "10/10 [==============================] - 0s 6ms/step - loss: 26.4748 - accuracy: 0.4906 - val_loss: 22.0618 - val_accuracy: 0.4000\n",
      "Epoch 35/100\n",
      "10/10 [==============================] - 0s 7ms/step - loss: 31.0600 - accuracy: 0.5125 - val_loss: 2.0319 - val_accuracy: 0.6250\n",
      "Epoch 36/100\n",
      "10/10 [==============================] - 0s 6ms/step - loss: 34.0584 - accuracy: 0.5063 - val_loss: 87.7879 - val_accuracy: 0.4000\n",
      "Epoch 37/100\n",
      "10/10 [==============================] - 0s 7ms/step - loss: 59.5858 - accuracy: 0.5844 - val_loss: 23.3102 - val_accuracy: 0.4000\n",
      "Epoch 38/100\n",
      "10/10 [==============================] - 0s 10ms/step - loss: 23.3522 - accuracy: 0.5344 - val_loss: 3.1558 - val_accuracy: 0.4000\n",
      "Epoch 39/100\n",
      "10/10 [==============================] - 0s 8ms/step - loss: 75.5537 - accuracy: 0.5094 - val_loss: 98.5219 - val_accuracy: 0.6000\n",
      "Epoch 40/100\n",
      "10/10 [==============================] - 0s 6ms/step - loss: 100.4693 - accuracy: 0.5312 - val_loss: 85.2644 - val_accuracy: 0.6000\n",
      "Epoch 41/100\n",
      "10/10 [==============================] - 0s 7ms/step - loss: 98.3834 - accuracy: 0.4594 - val_loss: 148.0279 - val_accuracy: 0.6000\n",
      "Epoch 42/100\n",
      "10/10 [==============================] - 0s 8ms/step - loss: 165.0622 - accuracy: 0.5469 - val_loss: 170.6351 - val_accuracy: 0.4000\n",
      "Epoch 43/100\n",
      "10/10 [==============================] - 0s 6ms/step - loss: 106.1632 - accuracy: 0.5500 - val_loss: 169.2806 - val_accuracy: 0.4000\n",
      "Epoch 44/100\n",
      "10/10 [==============================] - 0s 7ms/step - loss: 72.2395 - accuracy: 0.5063 - val_loss: 90.4903 - val_accuracy: 0.6000\n",
      "Epoch 45/100\n",
      "10/10 [==============================] - 0s 6ms/step - loss: 50.0364 - accuracy: 0.5031 - val_loss: 18.9472 - val_accuracy: 0.6000\n",
      "Epoch 46/100\n",
      "10/10 [==============================] - 0s 7ms/step - loss: 34.1930 - accuracy: 0.4906 - val_loss: 33.6324 - val_accuracy: 0.6000\n",
      "Epoch 47/100\n",
      "10/10 [==============================] - 0s 7ms/step - loss: 29.4854 - accuracy: 0.4437 - val_loss: 75.3895 - val_accuracy: 0.6000\n",
      "Epoch 48/100\n",
      "10/10 [==============================] - 0s 7ms/step - loss: 72.3822 - accuracy: 0.5781 - val_loss: 55.4892 - val_accuracy: 0.6000\n",
      "Epoch 49/100\n",
      "10/10 [==============================] - 0s 7ms/step - loss: 38.2381 - accuracy: 0.4969 - val_loss: 1.0296 - val_accuracy: 0.4750\n",
      "Epoch 50/100\n",
      "10/10 [==============================] - 0s 7ms/step - loss: 29.2116 - accuracy: 0.5188 - val_loss: 19.5295 - val_accuracy: 0.4000\n",
      "Epoch 51/100\n",
      "10/10 [==============================] - 0s 6ms/step - loss: 64.5975 - accuracy: 0.4969 - val_loss: 41.0803 - val_accuracy: 0.6000\n",
      "Epoch 52/100\n",
      "10/10 [==============================] - 0s 7ms/step - loss: 41.4094 - accuracy: 0.5688 - val_loss: 10.7305 - val_accuracy: 0.4000\n",
      "Epoch 53/100\n",
      "10/10 [==============================] - 0s 6ms/step - loss: 55.9979 - accuracy: 0.5406 - val_loss: 120.2731 - val_accuracy: 0.6000\n",
      "Epoch 54/100\n",
      "10/10 [==============================] - 0s 7ms/step - loss: 90.4161 - accuracy: 0.5406 - val_loss: 87.5633 - val_accuracy: 0.6000\n",
      "Epoch 55/100\n",
      "10/10 [==============================] - 0s 6ms/step - loss: 35.4805 - accuracy: 0.4844 - val_loss: 8.4913 - val_accuracy: 0.4000\n",
      "Epoch 56/100\n",
      "10/10 [==============================] - 0s 7ms/step - loss: 28.4038 - accuracy: 0.5656 - val_loss: 28.5163 - val_accuracy: 0.4000\n",
      "Epoch 57/100\n",
      "10/10 [==============================] - 0s 6ms/step - loss: 17.3891 - accuracy: 0.4906 - val_loss: 58.0868 - val_accuracy: 0.6000\n",
      "Epoch 58/100\n",
      "10/10 [==============================] - 0s 7ms/step - loss: 31.0101 - accuracy: 0.5406 - val_loss: 52.8319 - val_accuracy: 0.4000\n",
      "Epoch 59/100\n",
      "10/10 [==============================] - 0s 7ms/step - loss: 64.9682 - accuracy: 0.5469 - val_loss: 60.6222 - val_accuracy: 0.4000\n",
      "Epoch 60/100\n",
      "10/10 [==============================] - 0s 7ms/step - loss: 28.4517 - accuracy: 0.5281 - val_loss: 88.1379 - val_accuracy: 0.6000\n",
      "Epoch 61/100\n",
      "10/10 [==============================] - 0s 8ms/step - loss: 65.9650 - accuracy: 0.5781 - val_loss: 71.6062 - val_accuracy: 0.6000\n",
      "Epoch 62/100\n",
      "10/10 [==============================] - 0s 6ms/step - loss: 32.4434 - accuracy: 0.5156 - val_loss: 38.3419 - val_accuracy: 0.4000\n",
      "Epoch 63/100\n",
      "10/10 [==============================] - 0s 7ms/step - loss: 71.1386 - accuracy: 0.4531 - val_loss: 47.7444 - val_accuracy: 0.6000\n",
      "Epoch 64/100\n",
      "10/10 [==============================] - 0s 6ms/step - loss: 37.6260 - accuracy: 0.5094 - val_loss: 41.2112 - val_accuracy: 0.4000\n",
      "Epoch 65/100\n",
      "10/10 [==============================] - 0s 7ms/step - loss: 74.9810 - accuracy: 0.5219 - val_loss: 89.0316 - val_accuracy: 0.4000\n",
      "Epoch 66/100\n",
      "10/10 [==============================] - 0s 7ms/step - loss: 30.0194 - accuracy: 0.5469 - val_loss: 90.8767 - val_accuracy: 0.6000\n",
      "Epoch 67/100\n",
      "10/10 [==============================] - 0s 7ms/step - loss: 51.7534 - accuracy: 0.5344 - val_loss: 33.9748 - val_accuracy: 0.4000\n",
      "Epoch 68/100\n",
      "10/10 [==============================] - 0s 6ms/step - loss: 20.4899 - accuracy: 0.5094 - val_loss: 23.2835 - val_accuracy: 0.4000\n",
      "Epoch 69/100\n",
      "10/10 [==============================] - 0s 7ms/step - loss: 53.3349 - accuracy: 0.4594 - val_loss: 44.0323 - val_accuracy: 0.6000\n",
      "Epoch 70/100\n",
      "10/10 [==============================] - 0s 7ms/step - loss: 27.6068 - accuracy: 0.5594 - val_loss: 3.1927 - val_accuracy: 0.4000\n",
      "Epoch 71/100\n",
      "10/10 [==============================] - 0s 7ms/step - loss: 24.2564 - accuracy: 0.5250 - val_loss: 38.2660 - val_accuracy: 0.4000\n",
      "Epoch 72/100\n",
      "10/10 [==============================] - 0s 7ms/step - loss: 45.5139 - accuracy: 0.4781 - val_loss: 74.3001 - val_accuracy: 0.6000\n",
      "Epoch 73/100\n",
      "10/10 [==============================] - 0s 7ms/step - loss: 71.8145 - accuracy: 0.4781 - val_loss: 95.8344 - val_accuracy: 0.4000\n",
      "Epoch 74/100\n",
      "10/10 [==============================] - 0s 7ms/step - loss: 66.6726 - accuracy: 0.4656 - val_loss: 65.9018 - val_accuracy: 0.6000\n",
      "Epoch 75/100\n",
      "10/10 [==============================] - 0s 7ms/step - loss: 54.9434 - accuracy: 0.5469 - val_loss: 87.6666 - val_accuracy: 0.4000\n",
      "Epoch 76/100\n",
      "10/10 [==============================] - 0s 8ms/step - loss: 63.2913 - accuracy: 0.4531 - val_loss: 40.7197 - val_accuracy: 0.6000\n",
      "Epoch 77/100\n",
      "10/10 [==============================] - 0s 7ms/step - loss: 41.8810 - accuracy: 0.5781 - val_loss: 57.9667 - val_accuracy: 0.4000\n",
      "Epoch 78/100\n",
      "10/10 [==============================] - 0s 7ms/step - loss: 88.3218 - accuracy: 0.4906 - val_loss: 77.5654 - val_accuracy: 0.4000\n",
      "Epoch 79/100\n",
      "10/10 [==============================] - 0s 7ms/step - loss: 84.4138 - accuracy: 0.4969 - val_loss: 12.0314 - val_accuracy: 0.6000\n",
      "Epoch 80/100\n",
      "10/10 [==============================] - 0s 7ms/step - loss: 40.4434 - accuracy: 0.5469 - val_loss: 70.7476 - val_accuracy: 0.4000\n",
      "Epoch 81/100\n",
      "10/10 [==============================] - 0s 7ms/step - loss: 37.4980 - accuracy: 0.5281 - val_loss: 0.7788 - val_accuracy: 0.5125\n",
      "Epoch 82/100\n",
      "10/10 [==============================] - 0s 7ms/step - loss: 13.0784 - accuracy: 0.5312 - val_loss: 50.3907 - val_accuracy: 0.4000\n",
      "Epoch 83/100\n",
      "10/10 [==============================] - 0s 7ms/step - loss: 21.5976 - accuracy: 0.5406 - val_loss: 22.4044 - val_accuracy: 0.4000\n",
      "Epoch 84/100\n",
      "10/10 [==============================] - 0s 6ms/step - loss: 55.7954 - accuracy: 0.4719 - val_loss: 85.2223 - val_accuracy: 0.6000\n",
      "Epoch 85/100\n",
      "10/10 [==============================] - 0s 7ms/step - loss: 41.0649 - accuracy: 0.4719 - val_loss: 37.0281 - val_accuracy: 0.6000\n",
      "Epoch 86/100\n",
      "10/10 [==============================] - 0s 8ms/step - loss: 33.1378 - accuracy: 0.5125 - val_loss: 19.4811 - val_accuracy: 0.6000\n",
      "Epoch 87/100\n",
      "10/10 [==============================] - 0s 6ms/step - loss: 35.2495 - accuracy: 0.5031 - val_loss: 122.4047 - val_accuracy: 0.6000\n",
      "Epoch 88/100\n",
      "10/10 [==============================] - 0s 8ms/step - loss: 80.5936 - accuracy: 0.5594 - val_loss: 143.6041 - val_accuracy: 0.6000\n",
      "Epoch 89/100\n",
      "10/10 [==============================] - 0s 6ms/step - loss: 99.8207 - accuracy: 0.5562 - val_loss: 58.9137 - val_accuracy: 0.6000\n",
      "Epoch 90/100\n",
      "10/10 [==============================] - 0s 9ms/step - loss: 93.4306 - accuracy: 0.5375 - val_loss: 61.9739 - val_accuracy: 0.6000\n",
      "Epoch 91/100\n",
      "10/10 [==============================] - 0s 6ms/step - loss: 47.1443 - accuracy: 0.5156 - val_loss: 5.5600 - val_accuracy: 0.4000\n",
      "Epoch 92/100\n",
      "10/10 [==============================] - 0s 6ms/step - loss: 69.7222 - accuracy: 0.5094 - val_loss: 187.8610 - val_accuracy: 0.6000\n",
      "Epoch 93/100\n",
      "10/10 [==============================] - 0s 8ms/step - loss: 151.7242 - accuracy: 0.5281 - val_loss: 33.8009 - val_accuracy: 0.4000\n",
      "Epoch 94/100\n",
      "10/10 [==============================] - 0s 7ms/step - loss: 148.7595 - accuracy: 0.5531 - val_loss: 269.7197 - val_accuracy: 0.4000\n",
      "Epoch 95/100\n",
      "10/10 [==============================] - 0s 7ms/step - loss: 149.1291 - accuracy: 0.5219 - val_loss: 150.9018 - val_accuracy: 0.4000\n",
      "Epoch 96/100\n",
      "10/10 [==============================] - 0s 7ms/step - loss: 94.5494 - accuracy: 0.5844 - val_loss: 88.5566 - val_accuracy: 0.4000\n",
      "Epoch 97/100\n",
      "10/10 [==============================] - 0s 6ms/step - loss: 91.8776 - accuracy: 0.5094 - val_loss: 106.5793 - val_accuracy: 0.4000\n",
      "Epoch 98/100\n",
      "10/10 [==============================] - 0s 7ms/step - loss: 67.2714 - accuracy: 0.4656 - val_loss: 127.8512 - val_accuracy: 0.6000\n",
      "Epoch 99/100\n",
      "10/10 [==============================] - 0s 7ms/step - loss: 86.6290 - accuracy: 0.5625 - val_loss: 72.6559 - val_accuracy: 0.6000\n",
      "Epoch 100/100\n",
      "10/10 [==============================] - 0s 7ms/step - loss: 67.6902 - accuracy: 0.5344 - val_loss: 102.7220 - val_accuracy: 0.4000\n"
     ]
    }
   ],
   "source": [
    "history=model.fit(X_train,Y_train,validation_data=(X_test,Y_test),epochs=100)"
   ]
  },
  {
   "cell_type": "code",
   "execution_count": 22,
   "metadata": {},
   "outputs": [
    {
     "data": {
      "text/plain": [
       "[<matplotlib.lines.Line2D at 0x22f18134d60>]"
      ]
     },
     "execution_count": 22,
     "metadata": {},
     "output_type": "execute_result"
    },
    {
     "data": {
      "image/png": "[encoded data removed]",
      "text/plain": [
       "<Figure size 432x288 with 1 Axes>"
      ]
     },
     "metadata": {
      "needs_background": "light"
     },
     "output_type": "display_data"
    }
   ],
   "source": [
    "import matplotlib.pyplot as plt\n",
    "plt.plot(history.history['val_accuracy'])"
   ]
  },
  {
   "cell_type": "markdown",
   "metadata": {},
   "source": [
    "we can see our accuracy is 0.4 or 0.6 our model can not converge properly because of the state of input column \n",
    "so model will take a lot of time to train and sometimes our model is not trained properly\n"
   ]
  },
  {
   "cell_type": "code",
   "execution_count": null,
   "metadata": {},
   "outputs": [],
   "source": [
    "\n"
   ]
  },
  {
   "cell_type": "code",
   "execution_count": null,
   "metadata": {},
   "outputs": [],
   "source": []
  },
  {
   "cell_type": "code",
   "execution_count": null,
   "metadata": {},
   "outputs": [],
   "source": []
  },
  {
   "cell_type": "code",
   "execution_count": null,
   "metadata": {},
   "outputs": [],
   "source": []
  },
  {
   "cell_type": "code",
   "execution_count": null,
   "metadata": {},
   "outputs": [],
   "source": []
  }
 ],
 "metadata": {
  "kernelspec": {
   "display_name": "Python 3",
   "language": "python",
   "name": "python3"
  },
  "language_info": {
   "codemirror_mode": {
    "name": "ipython",
    "version": 3
   },
   "file_extension": ".py",
   "mimetype": "text/x-python",
   "name": "python",
   "nbconvert_exporter": "python",
   "pygments_lexer": "ipython3",
   "version": "3.8.3"
  }
 },
 "nbformat": 4,
 "nbformat_minor": 4
}
