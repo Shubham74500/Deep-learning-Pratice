{
 "cells": [
  {
   "cell_type": "code",
   "execution_count": 50,
   "metadata": {},
   "outputs": [],
   "source": [
    "import numpy as np\n",
    "import pandas as pd"
   ]
  },
  {
   "cell_type": "code",
   "execution_count": 51,
   "metadata": {},
   "outputs": [],
   "source": [
    "df=pd.read_csv('C:/Users/HP/Downloads/archive/Social_Network_Ads.csv')"
   ]
  },
  {
   "cell_type": "code",
   "execution_count": 52,
   "metadata": {},
   "outputs": [
    {
     "data": {
      "text/html": [
       "<div>\n",
       "<style scoped>\n",
       "    .dataframe tbody tr th:only-of-type {\n",
       "        vertical-align: middle;\n",
       "    }\n",
       "\n",
       "    .dataframe tbody tr th {\n",
       "        vertical-align: top;\n",
       "    }\n",
       "\n",
       "    .dataframe thead th {\n",
       "        text-align: right;\n",
       "    }\n",
       "</style>\n",
       "<table border=\"1\" class=\"dataframe\">\n",
       "  <thead>\n",
       "    <tr style=\"text-align: right;\">\n",
       "      <th></th>\n",
       "      <th>Age</th>\n",
       "      <th>EstimatedSalary</th>\n",
       "      <th>Purchased</th>\n",
       "    </tr>\n",
       "  </thead>\n",
       "  <tbody>\n",
       "    <tr>\n",
       "      <th>0</th>\n",
       "      <td>19</td>\n",
       "      <td>19000</td>\n",
       "      <td>0</td>\n",
       "    </tr>\n",
       "    <tr>\n",
       "      <th>1</th>\n",
       "      <td>35</td>\n",
       "      <td>20000</td>\n",
       "      <td>0</td>\n",
       "    </tr>\n",
       "    <tr>\n",
       "      <th>2</th>\n",
       "      <td>26</td>\n",
       "      <td>43000</td>\n",
       "      <td>0</td>\n",
       "    </tr>\n",
       "    <tr>\n",
       "      <th>3</th>\n",
       "      <td>27</td>\n",
       "      <td>57000</td>\n",
       "      <td>0</td>\n",
       "    </tr>\n",
       "    <tr>\n",
       "      <th>4</th>\n",
       "      <td>19</td>\n",
       "      <td>76000</td>\n",
       "      <td>0</td>\n",
       "    </tr>\n",
       "  </tbody>\n",
       "</table>\n",
       "</div>"
      ],
      "text/plain": [
       "   Age  EstimatedSalary  Purchased\n",
       "0   19            19000          0\n",
       "1   35            20000          0\n",
       "2   26            43000          0\n",
       "3   27            57000          0\n",
       "4   19            76000          0"
      ]
     },
     "execution_count": 52,
     "metadata": {},
     "output_type": "execute_result"
    }
   ],
   "source": [
    "df=df.iloc[:,2:]\n",
    "df.head()"
   ]
  },
  {
   "cell_type": "code",
   "execution_count": 53,
   "metadata": {},
   "outputs": [],
   "source": [
    "import seaborn as sns"
   ]
  },
  {
   "cell_type": "code",
   "execution_count": 54,
   "metadata": {},
   "outputs": [],
   "source": [
    "X=df.iloc[:,0:2]\n",
    "Y=df.iloc[:,-1]\n"
   ]
  },
  {
   "cell_type": "code",
   "execution_count": 55,
   "metadata": {},
   "outputs": [],
   "source": [
    "from sklearn.model_selection import train_test_split\n",
    "X_train,X_test,Y_train,Y_test=train_test_split(X,Y,test_size=0.2,random_state=2)"
   ]
  },
  {
   "cell_type": "code",
   "execution_count": 29,
   "metadata": {},
   "outputs": [],
   "source": [
    "import tensorflow as tf\n",
    "from tensorflow import keras\n",
    "from keras import Sequential\n",
    "from keras.layers import Dense"
   ]
  },
  {
   "cell_type": "code",
   "execution_count": 30,
   "metadata": {},
   "outputs": [],
   "source": [
    "model=Sequential()\n",
    "\n",
    "model.add(Dense(128,activation='relu',input_dim=2))\n",
    "model.add(Dense(1,activation='sigmoid'))"
   ]
  },
  {
   "cell_type": "code",
   "execution_count": 31,
   "metadata": {},
   "outputs": [
    {
     "name": "stdout",
     "output_type": "stream",
     "text": [
      "Model: \"sequential_1\"\n",
      "_________________________________________________________________\n",
      " Layer (type)                Output Shape              Param #   \n",
      "=================================================================\n",
      " dense_2 (Dense)             (None, 128)               384       \n",
      "                                                                 \n",
      " dense_3 (Dense)             (None, 1)                 129       \n",
      "                                                                 \n",
      "=================================================================\n",
      "Total params: 513\n",
      "Trainable params: 513\n",
      "Non-trainable params: 0\n",
      "_________________________________________________________________\n"
     ]
    }
   ],
   "source": [
    "model.summary()"
   ]
  },
  {
   "cell_type": "code",
   "execution_count": 32,
   "metadata": {},
   "outputs": [],
   "source": [
    "model.compile(optimizer=\"adam\",loss='binary_crossentropy',metrics=['accuracy'])"
   ]
  },
  {
   "cell_type": "code",
   "execution_count": 33,
   "metadata": {},
   "outputs": [
    {
     "name": "stdout",
     "output_type": "stream",
     "text": [
      "Epoch 1/100\n",
      "10/10 [==============================] - 1s 36ms/step - loss: 8695.3223 - accuracy: 0.3469 - val_loss: 5215.1968 - val_accuracy: 0.4000\n",
      "Epoch 2/100\n",
      "10/10 [==============================] - 0s 9ms/step - loss: 3156.3735 - accuracy: 0.3469 - val_loss: 29.5285 - val_accuracy: 0.6000\n",
      "Epoch 3/100\n",
      "10/10 [==============================] - 0s 9ms/step - loss: 798.9185 - accuracy: 0.6531 - val_loss: 1026.5808 - val_accuracy: 0.6000\n",
      "Epoch 4/100\n",
      "10/10 [==============================] - 0s 8ms/step - loss: 462.5998 - accuracy: 0.5531 - val_loss: 448.1059 - val_accuracy: 0.4000\n",
      "Epoch 5/100\n",
      "10/10 [==============================] - 0s 10ms/step - loss: 194.9074 - accuracy: 0.5594 - val_loss: 109.7499 - val_accuracy: 0.6000\n",
      "Epoch 6/100\n",
      "10/10 [==============================] - 0s 9ms/step - loss: 41.4659 - accuracy: 0.4656 - val_loss: 57.9558 - val_accuracy: 0.6000\n",
      "Epoch 7/100\n",
      "10/10 [==============================] - 0s 9ms/step - loss: 53.6804 - accuracy: 0.4594 - val_loss: 24.5650 - val_accuracy: 0.6000\n",
      "Epoch 8/100\n",
      "10/10 [==============================] - 0s 9ms/step - loss: 29.5028 - accuracy: 0.5094 - val_loss: 73.7857 - val_accuracy: 0.6000\n",
      "Epoch 9/100\n",
      "10/10 [==============================] - 0s 9ms/step - loss: 61.7309 - accuracy: 0.5406 - val_loss: 78.4686 - val_accuracy: 0.4000\n",
      "Epoch 10/100\n",
      "10/10 [==============================] - 0s 9ms/step - loss: 105.1818 - accuracy: 0.4906 - val_loss: 201.9417 - val_accuracy: 0.4000\n",
      "Epoch 11/100\n",
      "10/10 [==============================] - 0s 9ms/step - loss: 174.6947 - accuracy: 0.5656 - val_loss: 266.4919 - val_accuracy: 0.6000\n",
      "Epoch 12/100\n",
      "10/10 [==============================] - 0s 7ms/step - loss: 163.2198 - accuracy: 0.4719 - val_loss: 235.7605 - val_accuracy: 0.6000\n",
      "Epoch 13/100\n",
      "10/10 [==============================] - 0s 8ms/step - loss: 198.4020 - accuracy: 0.5031 - val_loss: 96.6292 - val_accuracy: 0.4000\n",
      "Epoch 14/100\n",
      "10/10 [==============================] - 0s 10ms/step - loss: 81.0497 - accuracy: 0.5094 - val_loss: 75.5678 - val_accuracy: 0.6000\n",
      "Epoch 15/100\n",
      "10/10 [==============================] - 0s 8ms/step - loss: 37.7519 - accuracy: 0.5031 - val_loss: 28.1611 - val_accuracy: 0.6000\n",
      "Epoch 16/100\n",
      "10/10 [==============================] - 0s 9ms/step - loss: 50.1638 - accuracy: 0.4781 - val_loss: 20.9164 - val_accuracy: 0.6000\n",
      "Epoch 17/100\n",
      "10/10 [==============================] - 0s 9ms/step - loss: 30.5045 - accuracy: 0.5281 - val_loss: 1.1938 - val_accuracy: 0.4000\n",
      "Epoch 18/100\n",
      "10/10 [==============================] - 0s 8ms/step - loss: 65.4334 - accuracy: 0.5281 - val_loss: 84.3767 - val_accuracy: 0.6000\n",
      "Epoch 19/100\n",
      "10/10 [==============================] - 0s 9ms/step - loss: 57.7206 - accuracy: 0.5406 - val_loss: 2.7991 - val_accuracy: 0.4000\n",
      "Epoch 20/100\n",
      "10/10 [==============================] - 0s 9ms/step - loss: 57.9155 - accuracy: 0.5406 - val_loss: 62.2153 - val_accuracy: 0.6000\n",
      "Epoch 21/100\n",
      "10/10 [==============================] - 0s 9ms/step - loss: 42.7339 - accuracy: 0.4656 - val_loss: 47.4377 - val_accuracy: 0.6000\n",
      "Epoch 22/100\n",
      "10/10 [==============================] - 0s 7ms/step - loss: 49.6761 - accuracy: 0.5531 - val_loss: 33.4392 - val_accuracy: 0.4000\n",
      "Epoch 23/100\n",
      "10/10 [==============================] - 0s 9ms/step - loss: 35.2451 - accuracy: 0.4719 - val_loss: 47.2543 - val_accuracy: 0.4000\n",
      "Epoch 24/100\n",
      "10/10 [==============================] - 0s 9ms/step - loss: 54.8207 - accuracy: 0.4906 - val_loss: 102.1490 - val_accuracy: 0.6000\n",
      "Epoch 25/100\n",
      "10/10 [==============================] - 0s 10ms/step - loss: 72.5701 - accuracy: 0.5531 - val_loss: 44.6771 - val_accuracy: 0.6000\n",
      "Epoch 26/100\n",
      "10/10 [==============================] - 0s 10ms/step - loss: 49.3229 - accuracy: 0.5094 - val_loss: 34.9386 - val_accuracy: 0.4000\n",
      "Epoch 27/100\n",
      "10/10 [==============================] - 0s 10ms/step - loss: 69.2714 - accuracy: 0.5094 - val_loss: 59.1523 - val_accuracy: 0.6000\n",
      "Epoch 28/100\n",
      "10/10 [==============================] - 0s 9ms/step - loss: 33.4917 - accuracy: 0.5031 - val_loss: 49.1953 - val_accuracy: 0.6000\n",
      "Epoch 29/100\n",
      "10/10 [==============================] - 0s 9ms/step - loss: 52.7776 - accuracy: 0.5406 - val_loss: 62.7090 - val_accuracy: 0.4000\n",
      "Epoch 30/100\n",
      "10/10 [==============================] - 0s 9ms/step - loss: 38.0352 - accuracy: 0.5344 - val_loss: 13.2842 - val_accuracy: 0.6000\n",
      "Epoch 31/100\n",
      "10/10 [==============================] - 0s 10ms/step - loss: 24.5931 - accuracy: 0.5031 - val_loss: 60.3271 - val_accuracy: 0.6000\n",
      "Epoch 32/100\n",
      "10/10 [==============================] - 0s 9ms/step - loss: 46.0091 - accuracy: 0.5781 - val_loss: 11.3430 - val_accuracy: 0.6000\n",
      "Epoch 33/100\n",
      "10/10 [==============================] - 0s 8ms/step - loss: 67.8226 - accuracy: 0.4531 - val_loss: 68.2272 - val_accuracy: 0.4000\n",
      "Epoch 34/100\n",
      "10/10 [==============================] - 0s 9ms/step - loss: 45.6128 - accuracy: 0.5344 - val_loss: 82.0056 - val_accuracy: 0.6000\n",
      "Epoch 35/100\n",
      "10/10 [==============================] - 0s 9ms/step - loss: 64.9279 - accuracy: 0.4969 - val_loss: 86.8102 - val_accuracy: 0.4000\n",
      "Epoch 36/100\n",
      "10/10 [==============================] - 0s 9ms/step - loss: 47.6798 - accuracy: 0.5219 - val_loss: 87.6794 - val_accuracy: 0.6000\n",
      "Epoch 37/100\n",
      "10/10 [==============================] - 0s 8ms/step - loss: 28.7580 - accuracy: 0.5719 - val_loss: 18.9886 - val_accuracy: 0.6000\n",
      "Epoch 38/100\n",
      "10/10 [==============================] - 0s 11ms/step - loss: 49.7041 - accuracy: 0.5844 - val_loss: 87.8141 - val_accuracy: 0.4000\n",
      "Epoch 39/100\n",
      "10/10 [==============================] - 0s 11ms/step - loss: 82.9144 - accuracy: 0.4344 - val_loss: 13.5883 - val_accuracy: 0.6000\n",
      "Epoch 40/100\n",
      "10/10 [==============================] - 0s 11ms/step - loss: 28.2977 - accuracy: 0.5281 - val_loss: 22.4203 - val_accuracy: 0.6000\n",
      "Epoch 41/100\n",
      "10/10 [==============================] - 0s 9ms/step - loss: 32.4734 - accuracy: 0.5406 - val_loss: 58.7660 - val_accuracy: 0.6000\n",
      "Epoch 42/100\n",
      "10/10 [==============================] - 0s 9ms/step - loss: 56.5802 - accuracy: 0.5781 - val_loss: 25.5069 - val_accuracy: 0.6000\n",
      "Epoch 43/100\n",
      "10/10 [==============================] - 0s 10ms/step - loss: 21.0176 - accuracy: 0.5156 - val_loss: 18.9421 - val_accuracy: 0.6000\n",
      "Epoch 44/100\n",
      "10/10 [==============================] - 0s 10ms/step - loss: 53.4110 - accuracy: 0.5281 - val_loss: 155.9707 - val_accuracy: 0.4000\n",
      "Epoch 45/100\n",
      "10/10 [==============================] - 0s 10ms/step - loss: 125.7376 - accuracy: 0.5906 - val_loss: 70.8217 - val_accuracy: 0.4000\n",
      "Epoch 46/100\n",
      "10/10 [==============================] - 0s 9ms/step - loss: 79.3305 - accuracy: 0.5156 - val_loss: 141.0400 - val_accuracy: 0.4000\n",
      "Epoch 47/100\n",
      "10/10 [==============================] - 0s 9ms/step - loss: 68.0957 - accuracy: 0.5344 - val_loss: 21.6800 - val_accuracy: 0.4000\n",
      "Epoch 48/100\n",
      "10/10 [==============================] - 0s 9ms/step - loss: 82.3505 - accuracy: 0.4406 - val_loss: 182.8792 - val_accuracy: 0.6000\n",
      "Epoch 49/100\n",
      "10/10 [==============================] - 0s 10ms/step - loss: 114.0519 - accuracy: 0.5219 - val_loss: 112.1573 - val_accuracy: 0.6000\n",
      "Epoch 50/100\n",
      "10/10 [==============================] - 0s 11ms/step - loss: 107.6482 - accuracy: 0.5594 - val_loss: 13.4035 - val_accuracy: 0.6000\n",
      "Epoch 51/100\n",
      "10/10 [==============================] - 0s 10ms/step - loss: 37.8368 - accuracy: 0.5156 - val_loss: 24.9150 - val_accuracy: 0.4000\n",
      "Epoch 52/100\n",
      "10/10 [==============================] - 0s 11ms/step - loss: 35.5110 - accuracy: 0.5781 - val_loss: 14.3142 - val_accuracy: 0.6000\n",
      "Epoch 53/100\n",
      "10/10 [==============================] - 0s 11ms/step - loss: 25.9857 - accuracy: 0.5344 - val_loss: 3.6302 - val_accuracy: 0.4000\n",
      "Epoch 54/100\n",
      "10/10 [==============================] - 0s 9ms/step - loss: 36.7166 - accuracy: 0.5656 - val_loss: 100.5863 - val_accuracy: 0.6000\n",
      "Epoch 55/100\n",
      "10/10 [==============================] - 0s 10ms/step - loss: 58.1432 - accuracy: 0.5219 - val_loss: 113.6699 - val_accuracy: 0.4000\n",
      "Epoch 56/100\n",
      "10/10 [==============================] - 0s 9ms/step - loss: 40.7308 - accuracy: 0.5031 - val_loss: 20.3047 - val_accuracy: 0.4000\n",
      "Epoch 57/100\n",
      "10/10 [==============================] - 0s 9ms/step - loss: 49.6251 - accuracy: 0.5656 - val_loss: 39.1675 - val_accuracy: 0.6000\n",
      "Epoch 58/100\n",
      "10/10 [==============================] - 0s 8ms/step - loss: 55.3353 - accuracy: 0.4844 - val_loss: 81.1881 - val_accuracy: 0.4000\n",
      "Epoch 59/100\n",
      "10/10 [==============================] - 0s 9ms/step - loss: 50.9276 - accuracy: 0.5344 - val_loss: 87.7848 - val_accuracy: 0.6000\n",
      "Epoch 60/100\n",
      "10/10 [==============================] - 0s 8ms/step - loss: 39.2121 - accuracy: 0.4344 - val_loss: 4.8105 - val_accuracy: 0.6000\n",
      "Epoch 61/100\n",
      "10/10 [==============================] - 0s 7ms/step - loss: 13.4156 - accuracy: 0.5031 - val_loss: 36.8276 - val_accuracy: 0.6000\n",
      "Epoch 62/100\n",
      "10/10 [==============================] - 0s 9ms/step - loss: 28.9658 - accuracy: 0.4844 - val_loss: 11.2337 - val_accuracy: 0.6000\n",
      "Epoch 63/100\n",
      "10/10 [==============================] - 0s 8ms/step - loss: 28.6209 - accuracy: 0.5344 - val_loss: 61.5928 - val_accuracy: 0.6000\n",
      "Epoch 64/100\n",
      "10/10 [==============================] - 0s 9ms/step - loss: 29.8273 - accuracy: 0.5219 - val_loss: 35.7510 - val_accuracy: 0.6000\n",
      "Epoch 65/100\n",
      "10/10 [==============================] - 0s 8ms/step - loss: 74.6680 - accuracy: 0.5281 - val_loss: 195.3830 - val_accuracy: 0.6000\n",
      "Epoch 66/100\n",
      "10/10 [==============================] - 0s 9ms/step - loss: 67.1937 - accuracy: 0.5219 - val_loss: 36.0233 - val_accuracy: 0.4000\n",
      "Epoch 67/100\n",
      "10/10 [==============================] - 0s 8ms/step - loss: 22.9014 - accuracy: 0.5656 - val_loss: 9.8379 - val_accuracy: 0.6000\n",
      "Epoch 68/100\n",
      "10/10 [==============================] - 0s 26ms/step - loss: 124.4127 - accuracy: 0.5156 - val_loss: 92.8467 - val_accuracy: 0.6000\n",
      "Epoch 69/100\n",
      "10/10 [==============================] - 0s 12ms/step - loss: 59.6351 - accuracy: 0.5531 - val_loss: 83.4393 - val_accuracy: 0.4000\n",
      "Epoch 70/100\n",
      "10/10 [==============================] - 0s 8ms/step - loss: 48.1375 - accuracy: 0.4625 - val_loss: 18.2768 - val_accuracy: 0.4000\n",
      "Epoch 71/100\n",
      "10/10 [==============================] - 0s 8ms/step - loss: 31.7951 - accuracy: 0.5406 - val_loss: 9.9270 - val_accuracy: 0.6000\n",
      "Epoch 72/100\n",
      "10/10 [==============================] - 0s 8ms/step - loss: 33.6401 - accuracy: 0.4969 - val_loss: 28.6153 - val_accuracy: 0.4000\n",
      "Epoch 73/100\n",
      "10/10 [==============================] - 0s 8ms/step - loss: 68.9837 - accuracy: 0.4719 - val_loss: 70.4028 - val_accuracy: 0.6000\n",
      "Epoch 74/100\n",
      "10/10 [==============================] - 0s 8ms/step - loss: 83.1717 - accuracy: 0.4844 - val_loss: 155.0735 - val_accuracy: 0.6000\n",
      "Epoch 75/100\n",
      "10/10 [==============================] - 0s 7ms/step - loss: 117.4101 - accuracy: 0.4969 - val_loss: 142.4922 - val_accuracy: 0.6000\n",
      "Epoch 76/100\n",
      "10/10 [==============================] - 0s 7ms/step - loss: 55.8079 - accuracy: 0.5406 - val_loss: 2.7355 - val_accuracy: 0.4000\n",
      "Epoch 77/100\n",
      "10/10 [==============================] - 0s 8ms/step - loss: 79.8684 - accuracy: 0.4656 - val_loss: 118.4902 - val_accuracy: 0.6000\n",
      "Epoch 78/100\n",
      "10/10 [==============================] - 0s 9ms/step - loss: 54.8425 - accuracy: 0.5906 - val_loss: 41.8388 - val_accuracy: 0.4000\n",
      "Epoch 79/100\n",
      "10/10 [==============================] - 0s 13ms/step - loss: 65.9510 - accuracy: 0.5094 - val_loss: 67.0569 - val_accuracy: 0.4000\n",
      "Epoch 80/100\n",
      "10/10 [==============================] - 0s 7ms/step - loss: 103.7892 - accuracy: 0.4594 - val_loss: 38.1878 - val_accuracy: 0.4000\n",
      "Epoch 81/100\n",
      "10/10 [==============================] - 0s 9ms/step - loss: 36.2463 - accuracy: 0.5344 - val_loss: 10.3569 - val_accuracy: 0.4000\n",
      "Epoch 82/100\n",
      "10/10 [==============================] - 0s 9ms/step - loss: 63.2657 - accuracy: 0.4844 - val_loss: 131.3376 - val_accuracy: 0.6000\n",
      "Epoch 83/100\n",
      "10/10 [==============================] - 0s 9ms/step - loss: 89.9911 - accuracy: 0.5344 - val_loss: 48.4089 - val_accuracy: 0.6000\n",
      "Epoch 84/100\n",
      "10/10 [==============================] - 0s 9ms/step - loss: 51.9398 - accuracy: 0.5281 - val_loss: 70.5317 - val_accuracy: 0.4000\n",
      "Epoch 85/100\n",
      "10/10 [==============================] - 0s 9ms/step - loss: 48.9163 - accuracy: 0.4781 - val_loss: 129.5620 - val_accuracy: 0.6000\n",
      "Epoch 86/100\n",
      "10/10 [==============================] - 0s 7ms/step - loss: 91.9170 - accuracy: 0.5156 - val_loss: 146.8342 - val_accuracy: 0.6000\n",
      "Epoch 87/100\n",
      "10/10 [==============================] - 0s 9ms/step - loss: 113.0870 - accuracy: 0.4719 - val_loss: 294.0707 - val_accuracy: 0.6000\n",
      "Epoch 88/100\n",
      "10/10 [==============================] - 0s 9ms/step - loss: 157.7239 - accuracy: 0.5031 - val_loss: 77.2795 - val_accuracy: 0.6000\n",
      "Epoch 89/100\n",
      "10/10 [==============================] - 0s 9ms/step - loss: 27.8841 - accuracy: 0.5344 - val_loss: 10.2996 - val_accuracy: 0.6000\n",
      "Epoch 90/100\n",
      "10/10 [==============================] - 0s 7ms/step - loss: 22.5384 - accuracy: 0.5781 - val_loss: 39.4319 - val_accuracy: 0.4000\n",
      "Epoch 91/100\n",
      "10/10 [==============================] - 0s 9ms/step - loss: 44.6090 - accuracy: 0.5219 - val_loss: 0.6843 - val_accuracy: 0.6625\n",
      "Epoch 92/100\n",
      "10/10 [==============================] - 0s 9ms/step - loss: 22.6254 - accuracy: 0.4969 - val_loss: 78.5640 - val_accuracy: 0.6000\n",
      "Epoch 93/100\n",
      "10/10 [==============================] - 0s 9ms/step - loss: 107.5486 - accuracy: 0.5156 - val_loss: 70.7431 - val_accuracy: 0.6000\n",
      "Epoch 94/100\n",
      "10/10 [==============================] - 0s 9ms/step - loss: 46.1107 - accuracy: 0.5344 - val_loss: 26.3110 - val_accuracy: 0.4000\n",
      "Epoch 95/100\n",
      "10/10 [==============================] - 0s 9ms/step - loss: 71.3207 - accuracy: 0.4969 - val_loss: 98.5560 - val_accuracy: 0.6000\n",
      "Epoch 96/100\n",
      "10/10 [==============================] - 0s 7ms/step - loss: 76.2959 - accuracy: 0.5406 - val_loss: 76.8649 - val_accuracy: 0.6000\n",
      "Epoch 97/100\n",
      "10/10 [==============================] - 0s 7ms/step - loss: 49.8481 - accuracy: 0.5344 - val_loss: 60.2008 - val_accuracy: 0.4000\n",
      "Epoch 98/100\n",
      "10/10 [==============================] - 0s 7ms/step - loss: 61.7364 - accuracy: 0.5094 - val_loss: 46.1045 - val_accuracy: 0.6000\n",
      "Epoch 99/100\n",
      "10/10 [==============================] - 0s 9ms/step - loss: 29.6667 - accuracy: 0.5500 - val_loss: 77.9217 - val_accuracy: 0.4000\n",
      "Epoch 100/100\n",
      "10/10 [==============================] - 0s 7ms/step - loss: 76.5798 - accuracy: 0.4531 - val_loss: 39.5424 - val_accuracy: 0.4000\n"
     ]
    }
   ],
   "source": [
    "history=model.fit(X_train,Y_train,validation_data=(X_test,Y_test),epochs=100)"
   ]
  },
  {
   "cell_type": "code",
   "execution_count": 34,
   "metadata": {},
   "outputs": [
    {
     "data": {
      "text/plain": [
       "[<matplotlib.lines.Line2D at 0x22f1c4df3a0>]"
      ]
     },
     "execution_count": 34,
     "metadata": {},
     "output_type": "execute_result"
    },
    {
     "data": {
      "image/png": "[encoded data removed]",
      "text/plain": [
       "<Figure size 432x288 with 1 Axes>"
      ]
     },
     "metadata": {
      "needs_background": "light"
     },
     "output_type": "display_data"
    }
   ],
   "source": [
    "import matplotlib.pyplot as plt\n",
    "plt.plot(history.history['val_accuracy'])"
   ]
  },
  {
   "cell_type": "markdown",
   "metadata": {},
   "source": [
    "we can see our accuracy is 0.4 or 0.6 our model can not converge properly because of the state of input column \n",
    "so model will take a lot of time to train and sometimes our model is not trained properly\n"
   ]
  },
  {
   "cell_type": "code",
   "execution_count": 56,
   "metadata": {},
   "outputs": [],
   "source": [
    "from sklearn.preprocessing import StandardScaler\n",
    "scaler=StandardScaler()\n",
    "\n",
    "X_train_scaled=scaler.fit_transform(X_train)\n",
    "X_test_scaled=scaler.fit_transform(X_test)"
   ]
  },
  {
   "cell_type": "code",
   "execution_count": 59,
   "metadata": {},
   "outputs": [
    {
     "data": {
      "text/plain": [
       "<matplotlib.axes._subplots.AxesSubplot at 0x22f1c5eb490>"
      ]
     },
     "execution_count": 59,
     "metadata": {},
     "output_type": "execute_result"
    },
    {
     "data": {
      "image/png": "[encoded data removed]",
      "text/plain": [
       "<Figure size 432x288 with 1 Axes>"
      ]
     },
     "metadata": {
      "needs_background": "light"
     },
     "output_type": "display_data"
    }
   ],
   "source": [
    "sns.scatterplot(X_train_scaled[:,0],X_train_scaled[:,1])"
   ]
  },
  {
   "cell_type": "code",
   "execution_count": 61,
   "metadata": {},
   "outputs": [],
   "source": [
    "model=Sequential()\n",
    "\n",
    "model.add(Dense(128,activation='relu',input_dim=2))\n",
    "model.add(Dense(1,activation='sigmoid'))\n",
    "model.compile(optimizer=\"adam\",loss='binary_crossentropy',metrics=['accuracy'])"
   ]
  },
  {
   "cell_type": "code",
   "execution_count": 62,
   "metadata": {},
   "outputs": [
    {
     "name": "stdout",
     "output_type": "stream",
     "text": [
      "Epoch 1/100\n",
      "10/10 [==============================] - 1s 32ms/step - loss: 0.6527 - accuracy: 0.7531 - val_loss: 0.6231 - val_accuracy: 0.7875\n",
      "Epoch 2/100\n",
      "10/10 [==============================] - 0s 7ms/step - loss: 0.6034 - accuracy: 0.8031 - val_loss: 0.5747 - val_accuracy: 0.7875\n",
      "Epoch 3/100\n",
      "10/10 [==============================] - 0s 7ms/step - loss: 0.5609 - accuracy: 0.8156 - val_loss: 0.5325 - val_accuracy: 0.7875\n",
      "Epoch 4/100\n",
      "10/10 [==============================] - 0s 7ms/step - loss: 0.5232 - accuracy: 0.8281 - val_loss: 0.4968 - val_accuracy: 0.7875\n",
      "Epoch 5/100\n",
      "10/10 [==============================] - 0s 10ms/step - loss: 0.4909 - accuracy: 0.8313 - val_loss: 0.4655 - val_accuracy: 0.7875\n",
      "Epoch 6/100\n",
      "10/10 [==============================] - 0s 27ms/step - loss: 0.4620 - accuracy: 0.8406 - val_loss: 0.4376 - val_accuracy: 0.7875\n",
      "Epoch 7/100\n",
      "10/10 [==============================] - 0s 9ms/step - loss: 0.4353 - accuracy: 0.8469 - val_loss: 0.4146 - val_accuracy: 0.7875\n",
      "Epoch 8/100\n",
      "10/10 [==============================] - 0s 7ms/step - loss: 0.4130 - accuracy: 0.8562 - val_loss: 0.3937 - val_accuracy: 0.8125\n",
      "Epoch 9/100\n",
      "10/10 [==============================] - 0s 14ms/step - loss: 0.3926 - accuracy: 0.8687 - val_loss: 0.3760 - val_accuracy: 0.8375\n",
      "Epoch 10/100\n",
      "10/10 [==============================] - 0s 11ms/step - loss: 0.3747 - accuracy: 0.8813 - val_loss: 0.3601 - val_accuracy: 0.8375\n",
      "Epoch 11/100\n",
      "10/10 [==============================] - 0s 11ms/step - loss: 0.3582 - accuracy: 0.8813 - val_loss: 0.3486 - val_accuracy: 0.8375\n",
      "Epoch 12/100\n",
      "10/10 [==============================] - 0s 8ms/step - loss: 0.3445 - accuracy: 0.8813 - val_loss: 0.3391 - val_accuracy: 0.8375\n",
      "Epoch 13/100\n",
      "10/10 [==============================] - 0s 8ms/step - loss: 0.3331 - accuracy: 0.8781 - val_loss: 0.3306 - val_accuracy: 0.8375\n",
      "Epoch 14/100\n",
      "10/10 [==============================] - 0s 8ms/step - loss: 0.3224 - accuracy: 0.8813 - val_loss: 0.3245 - val_accuracy: 0.8375\n",
      "Epoch 15/100\n",
      "10/10 [==============================] - 0s 7ms/step - loss: 0.3140 - accuracy: 0.8875 - val_loss: 0.3158 - val_accuracy: 0.8375\n",
      "Epoch 16/100\n",
      "10/10 [==============================] - 0s 8ms/step - loss: 0.3062 - accuracy: 0.8875 - val_loss: 0.3108 - val_accuracy: 0.8375\n",
      "Epoch 17/100\n",
      "10/10 [==============================] - 0s 8ms/step - loss: 0.2989 - accuracy: 0.8875 - val_loss: 0.3068 - val_accuracy: 0.8375\n",
      "Epoch 18/100\n",
      "10/10 [==============================] - 0s 7ms/step - loss: 0.2934 - accuracy: 0.8938 - val_loss: 0.3020 - val_accuracy: 0.8500\n",
      "Epoch 19/100\n",
      "10/10 [==============================] - 0s 8ms/step - loss: 0.2883 - accuracy: 0.8969 - val_loss: 0.2988 - val_accuracy: 0.8500\n",
      "Epoch 20/100\n",
      "10/10 [==============================] - 0s 7ms/step - loss: 0.2838 - accuracy: 0.8969 - val_loss: 0.2949 - val_accuracy: 0.8750\n",
      "Epoch 21/100\n",
      "10/10 [==============================] - 0s 7ms/step - loss: 0.2797 - accuracy: 0.8969 - val_loss: 0.2937 - val_accuracy: 0.8625\n",
      "Epoch 22/100\n",
      "10/10 [==============================] - 0s 6ms/step - loss: 0.2762 - accuracy: 0.8938 - val_loss: 0.2920 - val_accuracy: 0.8625\n",
      "Epoch 23/100\n",
      "10/10 [==============================] - 0s 7ms/step - loss: 0.2736 - accuracy: 0.8969 - val_loss: 0.2871 - val_accuracy: 0.8750\n",
      "Epoch 24/100\n",
      "10/10 [==============================] - 0s 9ms/step - loss: 0.2699 - accuracy: 0.8969 - val_loss: 0.2865 - val_accuracy: 0.8750\n",
      "Epoch 25/100\n",
      "10/10 [==============================] - 0s 9ms/step - loss: 0.2677 - accuracy: 0.8969 - val_loss: 0.2862 - val_accuracy: 0.8625\n",
      "Epoch 26/100\n",
      "10/10 [==============================] - 0s 7ms/step - loss: 0.2650 - accuracy: 0.8969 - val_loss: 0.2847 - val_accuracy: 0.8625\n",
      "Epoch 27/100\n",
      "10/10 [==============================] - 0s 8ms/step - loss: 0.2627 - accuracy: 0.9000 - val_loss: 0.2808 - val_accuracy: 0.8875\n",
      "Epoch 28/100\n",
      "10/10 [==============================] - 0s 7ms/step - loss: 0.2607 - accuracy: 0.9000 - val_loss: 0.2793 - val_accuracy: 0.8875\n",
      "Epoch 29/100\n",
      "10/10 [==============================] - 0s 8ms/step - loss: 0.2588 - accuracy: 0.8969 - val_loss: 0.2770 - val_accuracy: 0.8875\n",
      "Epoch 30/100\n",
      "10/10 [==============================] - 0s 7ms/step - loss: 0.2571 - accuracy: 0.8969 - val_loss: 0.2767 - val_accuracy: 0.8875\n",
      "Epoch 31/100\n",
      "10/10 [==============================] - 0s 6ms/step - loss: 0.2560 - accuracy: 0.9000 - val_loss: 0.2753 - val_accuracy: 0.8875\n",
      "Epoch 32/100\n",
      "10/10 [==============================] - 0s 6ms/step - loss: 0.2543 - accuracy: 0.9000 - val_loss: 0.2736 - val_accuracy: 0.8875\n",
      "Epoch 33/100\n",
      "10/10 [==============================] - 0s 7ms/step - loss: 0.2527 - accuracy: 0.9000 - val_loss: 0.2736 - val_accuracy: 0.8875\n",
      "Epoch 34/100\n",
      "10/10 [==============================] - 0s 7ms/step - loss: 0.2521 - accuracy: 0.9000 - val_loss: 0.2734 - val_accuracy: 0.8875\n",
      "Epoch 35/100\n",
      "10/10 [==============================] - 0s 6ms/step - loss: 0.2508 - accuracy: 0.9000 - val_loss: 0.2715 - val_accuracy: 0.8875\n",
      "Epoch 36/100\n",
      "10/10 [==============================] - 0s 9ms/step - loss: 0.2495 - accuracy: 0.9000 - val_loss: 0.2692 - val_accuracy: 0.8875\n",
      "Epoch 37/100\n",
      "10/10 [==============================] - 0s 6ms/step - loss: 0.2486 - accuracy: 0.9000 - val_loss: 0.2704 - val_accuracy: 0.8875\n",
      "Epoch 38/100\n",
      "10/10 [==============================] - 0s 8ms/step - loss: 0.2484 - accuracy: 0.9000 - val_loss: 0.2721 - val_accuracy: 0.8750\n",
      "Epoch 39/100\n",
      "10/10 [==============================] - 0s 7ms/step - loss: 0.2468 - accuracy: 0.9000 - val_loss: 0.2702 - val_accuracy: 0.8875\n",
      "Epoch 40/100\n",
      "10/10 [==============================] - 0s 7ms/step - loss: 0.2459 - accuracy: 0.9000 - val_loss: 0.2675 - val_accuracy: 0.9000\n",
      "Epoch 41/100\n",
      "10/10 [==============================] - 0s 7ms/step - loss: 0.2454 - accuracy: 0.9000 - val_loss: 0.2681 - val_accuracy: 0.8875\n",
      "Epoch 42/100\n",
      "10/10 [==============================] - 0s 6ms/step - loss: 0.2445 - accuracy: 0.9000 - val_loss: 0.2650 - val_accuracy: 0.9250\n",
      "Epoch 43/100\n",
      "10/10 [==============================] - 0s 9ms/step - loss: 0.2437 - accuracy: 0.9000 - val_loss: 0.2655 - val_accuracy: 0.9250\n",
      "Epoch 44/100\n",
      "10/10 [==============================] - 0s 9ms/step - loss: 0.2435 - accuracy: 0.9000 - val_loss: 0.2632 - val_accuracy: 0.9250\n",
      "Epoch 45/100\n",
      "10/10 [==============================] - 0s 7ms/step - loss: 0.2425 - accuracy: 0.9000 - val_loss: 0.2656 - val_accuracy: 0.9250\n",
      "Epoch 46/100\n",
      "10/10 [==============================] - 0s 7ms/step - loss: 0.2422 - accuracy: 0.8969 - val_loss: 0.2680 - val_accuracy: 0.8875\n",
      "Epoch 47/100\n",
      "10/10 [==============================] - 0s 9ms/step - loss: 0.2418 - accuracy: 0.9000 - val_loss: 0.2641 - val_accuracy: 0.9250\n",
      "Epoch 48/100\n",
      "10/10 [==============================] - 0s 10ms/step - loss: 0.2411 - accuracy: 0.9000 - val_loss: 0.2622 - val_accuracy: 0.9250\n",
      "Epoch 49/100\n",
      "10/10 [==============================] - 0s 8ms/step - loss: 0.2406 - accuracy: 0.9031 - val_loss: 0.2640 - val_accuracy: 0.9250\n",
      "Epoch 50/100\n",
      "10/10 [==============================] - 0s 9ms/step - loss: 0.2398 - accuracy: 0.9000 - val_loss: 0.2647 - val_accuracy: 0.9250\n",
      "Epoch 51/100\n",
      "10/10 [==============================] - 0s 6ms/step - loss: 0.2403 - accuracy: 0.9000 - val_loss: 0.2627 - val_accuracy: 0.9250\n",
      "Epoch 52/100\n",
      "10/10 [==============================] - 0s 7ms/step - loss: 0.2392 - accuracy: 0.9031 - val_loss: 0.2650 - val_accuracy: 0.9250\n",
      "Epoch 53/100\n",
      "10/10 [==============================] - 0s 8ms/step - loss: 0.2388 - accuracy: 0.9031 - val_loss: 0.2643 - val_accuracy: 0.9250\n",
      "Epoch 54/100\n",
      "10/10 [==============================] - 0s 8ms/step - loss: 0.2385 - accuracy: 0.9000 - val_loss: 0.2641 - val_accuracy: 0.9375\n",
      "Epoch 55/100\n",
      "10/10 [==============================] - 0s 8ms/step - loss: 0.2380 - accuracy: 0.9000 - val_loss: 0.2615 - val_accuracy: 0.9250\n",
      "Epoch 56/100\n",
      "10/10 [==============================] - 0s 9ms/step - loss: 0.2374 - accuracy: 0.9062 - val_loss: 0.2615 - val_accuracy: 0.9375\n",
      "Epoch 57/100\n",
      "10/10 [==============================] - 0s 7ms/step - loss: 0.2372 - accuracy: 0.9062 - val_loss: 0.2640 - val_accuracy: 0.9375\n",
      "Epoch 58/100\n",
      "10/10 [==============================] - 0s 8ms/step - loss: 0.2373 - accuracy: 0.9062 - val_loss: 0.2636 - val_accuracy: 0.9375\n",
      "Epoch 59/100\n",
      "10/10 [==============================] - 0s 7ms/step - loss: 0.2365 - accuracy: 0.9062 - val_loss: 0.2628 - val_accuracy: 0.9375\n",
      "Epoch 60/100\n",
      "10/10 [==============================] - 0s 7ms/step - loss: 0.2366 - accuracy: 0.9062 - val_loss: 0.2630 - val_accuracy: 0.9375\n",
      "Epoch 61/100\n",
      "10/10 [==============================] - 0s 6ms/step - loss: 0.2360 - accuracy: 0.9094 - val_loss: 0.2614 - val_accuracy: 0.9375\n",
      "Epoch 62/100\n",
      "10/10 [==============================] - 0s 6ms/step - loss: 0.2361 - accuracy: 0.9094 - val_loss: 0.2596 - val_accuracy: 0.9375\n",
      "Epoch 63/100\n",
      "10/10 [==============================] - 0s 6ms/step - loss: 0.2356 - accuracy: 0.9094 - val_loss: 0.2604 - val_accuracy: 0.9375\n",
      "Epoch 64/100\n",
      "10/10 [==============================] - 0s 6ms/step - loss: 0.2356 - accuracy: 0.9031 - val_loss: 0.2644 - val_accuracy: 0.9375\n",
      "Epoch 65/100\n",
      "10/10 [==============================] - 0s 7ms/step - loss: 0.2347 - accuracy: 0.9094 - val_loss: 0.2615 - val_accuracy: 0.9375\n",
      "Epoch 66/100\n",
      "10/10 [==============================] - 0s 6ms/step - loss: 0.2346 - accuracy: 0.9094 - val_loss: 0.2605 - val_accuracy: 0.9375\n",
      "Epoch 67/100\n",
      "10/10 [==============================] - 0s 10ms/step - loss: 0.2340 - accuracy: 0.9094 - val_loss: 0.2592 - val_accuracy: 0.9375\n",
      "Epoch 68/100\n",
      "10/10 [==============================] - 0s 9ms/step - loss: 0.2338 - accuracy: 0.9062 - val_loss: 0.2605 - val_accuracy: 0.9375\n",
      "Epoch 69/100\n",
      "10/10 [==============================] - 0s 8ms/step - loss: 0.2335 - accuracy: 0.9094 - val_loss: 0.2611 - val_accuracy: 0.9375\n",
      "Epoch 70/100\n",
      "10/10 [==============================] - 0s 16ms/step - loss: 0.2335 - accuracy: 0.9094 - val_loss: 0.2628 - val_accuracy: 0.9375\n",
      "Epoch 71/100\n",
      "10/10 [==============================] - 0s 12ms/step - loss: 0.2330 - accuracy: 0.9094 - val_loss: 0.2602 - val_accuracy: 0.9375\n",
      "Epoch 72/100\n",
      "10/10 [==============================] - 0s 6ms/step - loss: 0.2329 - accuracy: 0.9094 - val_loss: 0.2621 - val_accuracy: 0.9375\n",
      "Epoch 73/100\n",
      "10/10 [==============================] - 0s 6ms/step - loss: 0.2328 - accuracy: 0.9094 - val_loss: 0.2593 - val_accuracy: 0.9375\n",
      "Epoch 74/100\n",
      "10/10 [==============================] - 0s 9ms/step - loss: 0.2323 - accuracy: 0.9094 - val_loss: 0.2598 - val_accuracy: 0.9375\n",
      "Epoch 75/100\n",
      "10/10 [==============================] - 0s 8ms/step - loss: 0.2321 - accuracy: 0.9062 - val_loss: 0.2603 - val_accuracy: 0.9375\n",
      "Epoch 76/100\n",
      "10/10 [==============================] - 0s 10ms/step - loss: 0.2319 - accuracy: 0.9062 - val_loss: 0.2595 - val_accuracy: 0.9375\n",
      "Epoch 77/100\n",
      "10/10 [==============================] - 0s 10ms/step - loss: 0.2317 - accuracy: 0.9062 - val_loss: 0.2598 - val_accuracy: 0.9375\n",
      "Epoch 78/100\n",
      "10/10 [==============================] - 0s 8ms/step - loss: 0.2313 - accuracy: 0.9094 - val_loss: 0.2607 - val_accuracy: 0.9375\n",
      "Epoch 79/100\n",
      "10/10 [==============================] - 0s 9ms/step - loss: 0.2311 - accuracy: 0.9094 - val_loss: 0.2607 - val_accuracy: 0.9375\n",
      "Epoch 80/100\n",
      "10/10 [==============================] - 0s 8ms/step - loss: 0.2308 - accuracy: 0.9125 - val_loss: 0.2607 - val_accuracy: 0.9375\n",
      "Epoch 81/100\n",
      "10/10 [==============================] - 0s 9ms/step - loss: 0.2307 - accuracy: 0.9125 - val_loss: 0.2593 - val_accuracy: 0.9375\n",
      "Epoch 82/100\n",
      "10/10 [==============================] - 0s 8ms/step - loss: 0.2306 - accuracy: 0.9094 - val_loss: 0.2586 - val_accuracy: 0.9375\n",
      "Epoch 83/100\n",
      "10/10 [==============================] - 0s 6ms/step - loss: 0.2302 - accuracy: 0.9125 - val_loss: 0.2585 - val_accuracy: 0.9375\n",
      "Epoch 84/100\n",
      "10/10 [==============================] - 0s 6ms/step - loss: 0.2300 - accuracy: 0.9094 - val_loss: 0.2589 - val_accuracy: 0.9375\n",
      "Epoch 85/100\n",
      "10/10 [==============================] - 0s 5ms/step - loss: 0.2302 - accuracy: 0.9094 - val_loss: 0.2575 - val_accuracy: 0.9375\n",
      "Epoch 86/100\n",
      "10/10 [==============================] - 0s 7ms/step - loss: 0.2301 - accuracy: 0.9125 - val_loss: 0.2614 - val_accuracy: 0.9375\n",
      "Epoch 87/100\n",
      "10/10 [==============================] - 0s 8ms/step - loss: 0.2299 - accuracy: 0.9094 - val_loss: 0.2598 - val_accuracy: 0.9375\n",
      "Epoch 88/100\n",
      "10/10 [==============================] - 0s 5ms/step - loss: 0.2294 - accuracy: 0.9094 - val_loss: 0.2612 - val_accuracy: 0.9375\n",
      "Epoch 89/100\n",
      "10/10 [==============================] - 0s 6ms/step - loss: 0.2290 - accuracy: 0.9094 - val_loss: 0.2586 - val_accuracy: 0.9375\n",
      "Epoch 90/100\n",
      "10/10 [==============================] - 0s 10ms/step - loss: 0.2295 - accuracy: 0.9125 - val_loss: 0.2574 - val_accuracy: 0.9375\n",
      "Epoch 91/100\n",
      "10/10 [==============================] - 0s 9ms/step - loss: 0.2287 - accuracy: 0.9125 - val_loss: 0.2563 - val_accuracy: 0.9375\n",
      "Epoch 92/100\n",
      "10/10 [==============================] - 0s 7ms/step - loss: 0.2285 - accuracy: 0.9094 - val_loss: 0.2581 - val_accuracy: 0.9375\n",
      "Epoch 93/100\n",
      "10/10 [==============================] - 0s 8ms/step - loss: 0.2283 - accuracy: 0.9094 - val_loss: 0.2576 - val_accuracy: 0.9375\n",
      "Epoch 94/100\n",
      "10/10 [==============================] - 0s 10ms/step - loss: 0.2284 - accuracy: 0.9125 - val_loss: 0.2592 - val_accuracy: 0.9375\n",
      "Epoch 95/100\n",
      "10/10 [==============================] - 0s 7ms/step - loss: 0.2282 - accuracy: 0.9125 - val_loss: 0.2568 - val_accuracy: 0.9375\n",
      "Epoch 96/100\n",
      "10/10 [==============================] - 0s 9ms/step - loss: 0.2283 - accuracy: 0.9094 - val_loss: 0.2559 - val_accuracy: 0.9375\n",
      "Epoch 97/100\n",
      "10/10 [==============================] - 0s 9ms/step - loss: 0.2277 - accuracy: 0.9125 - val_loss: 0.2569 - val_accuracy: 0.9375\n",
      "Epoch 98/100\n",
      "10/10 [==============================] - 0s 8ms/step - loss: 0.2281 - accuracy: 0.9125 - val_loss: 0.2572 - val_accuracy: 0.9375\n",
      "Epoch 99/100\n",
      "10/10 [==============================] - 0s 8ms/step - loss: 0.2282 - accuracy: 0.9125 - val_loss: 0.2628 - val_accuracy: 0.9250\n",
      "Epoch 100/100\n",
      "10/10 [==============================] - 0s 8ms/step - loss: 0.2272 - accuracy: 0.9094 - val_loss: 0.2575 - val_accuracy: 0.9375\n"
     ]
    }
   ],
   "source": [
    "history=model.fit(X_train_scaled,Y_train,validation_data=(X_test_scaled,Y_test),epochs=100)"
   ]
  },
  {
   "cell_type": "code",
   "execution_count": 63,
   "metadata": {},
   "outputs": [
    {
     "data": {
      "text/plain": [
       "[<matplotlib.lines.Line2D at 0x22f1d8d0520>]"
      ]
     },
     "execution_count": 63,
     "metadata": {},
     "output_type": "execute_result"
    },
    {
     "data": {
      "image/png": "[encoded data removed]",
      "text/plain": [
       "<Figure size 432x288 with 1 Axes>"
      ]
     },
     "metadata": {
      "needs_background": "light"
     },
     "output_type": "display_data"
    }
   ],
   "source": [
    "import matplotlib.pyplot as plt\n",
    "plt.plot(history.history['val_accuracy'])"
   ]
  },
  {
   "cell_type": "code",
   "execution_count": null,
   "metadata": {},
   "outputs": [],
   "source": []
  }
 ],
 "metadata": {
  "kernelspec": {
   "display_name": "Python 3",
   "language": "python",
   "name": "python3"
  },
  "language_info": {
   "codemirror_mode": {
    "name": "ipython",
    "version": 3
   },
   "file_extension": ".py",
   "mimetype": "text/x-python",
   "name": "python",
   "nbconvert_exporter": "python",
   "pygments_lexer": "ipython3",
   "version": "3.8.3"
  }
 },
 "nbformat": 4,
 "nbformat_minor": 4
}
